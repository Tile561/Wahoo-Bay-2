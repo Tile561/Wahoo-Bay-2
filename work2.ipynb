{
 "cells": [
  {
   "cell_type": "code",
   "execution_count": 140,
   "metadata": {},
   "outputs": [],
   "source": [
    "import pandas as pd\n",
    "import numpy as np\n",
    "from sklearn.model_selection import TimeSeriesSplit\n",
    "from sklearn.model_selection import cross_val_score\n",
    "from sklearn.model_selection import cross_val_predict\n",
    "import matplotlib.pyplot as plt\n",
    "from sklearn.metrics import mean_absolute_error, mean_squared_error, r2_score\n",
    "from sklearn.ensemble import RandomForestRegressor\n",
    "from sklearn.model_selection import cross_val_score"
   ]
  },
  {
   "cell_type": "code",
   "execution_count": 141,
   "metadata": {},
   "outputs": [],
   "source": [
    "df = pd.read_csv('sensor1monthly.csv')\n",
    "test = pd.read_csv('sensor2monthly.csv')\n",
    "\n",
    "test['Timestamp'] = pd.to_datetime(test['Timestamp'], unit= 'ms')\n",
    "test.set_index('Timestamp', inplace=True)\n",
    "new_test= test.resample('H').mean()\n",
    "new_test.reset_index(inplace=True)\n",
    "\n",
    "df['Timestamp'] = pd.to_datetime(df['Timestamp'], unit= 'ms')\n",
    "df.set_index('Timestamp', inplace=True)\n",
    "new_df= df.resample('H').mean()\n",
    "new_df.reset_index(inplace=True)"
   ]
  },
  {
   "cell_type": "code",
   "execution_count": 142,
   "metadata": {},
   "outputs": [],
   "source": [
    "df_500= new_df.iloc[:-1].copy()\n",
    "#print(df.iloc[4000])\n",
    "df_500['Hour'] = df_500['Timestamp'].dt.hour\n",
    "df_500['Day'] = df_500['Timestamp'].dt.day\n",
    "df_500['Month'] = df_500['Timestamp'].dt.month\n",
    "\n",
    "#column_means = df_500.median()\n",
    "df_filled = df_500.apply(lambda col: col.fillna(col.median()), axis=0)\n",
    "\n",
    "\n",
    "test_500= new_test.iloc[:-1].copy()\n",
    "#print(df.iloc[4000])\n",
    "test_500['Hour'] = test_500['Timestamp'].dt.hour\n",
    "test_500['Day'] = test_500['Timestamp'].dt.day\n",
    "test_500['Month'] = test_500['Timestamp'].dt.month\n",
    "\n",
    "#column_means = df_500.median()\n",
    "test_filled = test_500.apply(lambda col: col.fillna(col.median()), axis=0)\n",
    "\n",
    "#\n",
    "x= df_filled[['Hour','Day','Month','Wind direction minimum Degrees', 'Wind direction average Degrees','Wind direction maximum Degrees','Wind speed minimum m/s','Wind speed average m/s','Wind speed maximum m/s','Solar radiation W/m^2','Barometric Pressure Hecto Pascals']]\n",
    "y = df_filled['Air temperature Celsius']\n",
    "tss = TimeSeriesSplit(n_splits = 3)\n",
    "\n",
    "for train_index, test_index in tss.split(x):\n",
    "    x_train, x_test = x.iloc[train_index, :], x.iloc[test_index,:]\n",
    "    y_train, y_test = y.iloc[train_index], y.iloc[test_index]\n",
    "\n",
    "    split_index = int(len(x_train) * 0.8)\n",
    "    x_train_split, x_val = x_train.iloc[:split_index, :], x_train.iloc[split_index:, :]\n",
    "    y_train_split, y_val = y_train.iloc[:split_index], y_train.iloc[split_index:]"
   ]
  },
  {
   "cell_type": "code",
   "execution_count": 143,
   "metadata": {},
   "outputs": [
    {
     "name": "stdout",
     "output_type": "stream",
     "text": [
      "Training\n",
      "-----------------------------\n",
      "Mean Absolute Error: 0.17225081369248163\n",
      "Mean Squared Error: 0.09137368871756298\n",
      "R2: 0.976017668954532\n",
      "Validation\n",
      "-----------------------------\n",
      "Mean Absolute Error: 0.1371501823793509\n",
      "Mean Squared Error: 0.04951168377110805\n",
      "R2: 0.9682322771939523\n",
      "Testing\n",
      "-----------------------------\n",
      "Mean Absolute Error: 0.7885489673268992\n",
      "Mean Squared Error: 0.8226012804758457\n",
      "R2: -0.29043692172588353\n"
     ]
    }
   ],
   "source": [
    "rfr = RandomForestRegressor(random_state=42)\n",
    "rfr.fit(x_train,y_train)\n",
    "\n",
    "predictions_train = rfr.predict(x_train)\n",
    "\n",
    "mae_train = mean_absolute_error(y_train,predictions_train)\n",
    "mse_train = mean_squared_error(y_train, predictions_train)\n",
    "r2_train = r2_score(y_train, predictions_train)\n",
    "\n",
    "print(\"Training\")\n",
    "print(\"-----------------------------\")\n",
    "print(\"Mean Absolute Error:\", mae_train)\n",
    "print(\"Mean Squared Error:\", mse_train)\n",
    "print(\"R2:\", r2_train)\n",
    "\n",
    "\n",
    "predictions_val = rfr.predict(x_val)\n",
    "\n",
    "mae_val = mean_absolute_error(y_val, predictions_val)\n",
    "mse_val = mean_squared_error(y_val, predictions_val)\n",
    "r2_val = r2_score(y_val, predictions_val)\n",
    "\n",
    "print(\"Validation\")\n",
    "print(\"-----------------------------\")\n",
    "print(\"Mean Absolute Error:\", mae_val)\n",
    "print(\"Mean Squared Error:\", mse_val)\n",
    "print(\"R2:\", r2_val)\n",
    "\n",
    "predictions = rfr.predict(x_test)\n",
    "\n",
    "mae = mean_absolute_error(y_test, predictions)\n",
    "mse = mean_squared_error(y_test, predictions)\n",
    "r2 = r2_score(y_test, predictions)  \n",
    "\n",
    "print(\"Testing\")\n",
    "print(\"-----------------------------\")\n",
    "print(\"Mean Absolute Error:\", mae)\n",
    "print(\"Mean Squared Error:\", mse)\n",
    "print(\"R2:\", r2)\n"
   ]
  },
  {
   "cell_type": "code",
   "execution_count": 144,
   "metadata": {},
   "outputs": [
    {
     "name": "stdout",
     "output_type": "stream",
     "text": [
      "Best Hyperparameters: {'max_depth': 5, 'max_features': 'sqrt', 'min_samples_leaf': 1, 'min_samples_split': 90, 'n_estimators': 10}\n",
      "Testing Performance:\n",
      "Mean Absolute Error: 0.5766648157477597\n",
      "Mean Squared Error: 0.5432078929735904\n",
      "R2 Score: 0.14785505699607748\n"
     ]
    }
   ],
   "source": [
    "from sklearn.model_selection import GridSearchCV\n",
    "\n",
    "# Define the parameter grid\n",
    "param_grid = {\n",
    "    'n_estimators': [10,20,50,100],\n",
    "    'max_depth': [2,5,10,20,30,40,50,60],\n",
    "    'min_samples_split': [60,80,90,100,120,130,140,150],\n",
    "    'min_samples_leaf':[1,2,4],\n",
    "    'max_features': ['sqrt', 'log2']\n",
    "    # Add more hyperparameters as needed\n",
    "}\n",
    "\n",
    "# Instantiate the grid search cross-validation object\n",
    "grid_search = GridSearchCV(estimator=rfr, param_grid=param_grid, cv=tss, scoring='r2')\n",
    "\n",
    "# Perform grid search\n",
    "grid_search.fit(x_train, y_train)\n",
    "\n",
    "# Get the best hyperparameters\n",
    "best_params = grid_search.best_params_\n",
    "\n",
    "# Use the best model for prediction\n",
    "best_model = grid_search.best_estimator_\n",
    "\n",
    "# Evaluate the best model\n",
    "best_model.fit(x_train, y_train)\n",
    "predictions_test = best_model.predict(x_test)\n",
    "\n",
    "# Calculate evaluation metrics\n",
    "mae_test = mean_absolute_error(y_test, predictions_test)\n",
    "mse_test = mean_squared_error(y_test, predictions_test)\n",
    "r2_test = r2_score(y_test, predictions_test)\n",
    "\n",
    "print(\"Best Hyperparameters:\", best_params)\n",
    "print(\"Testing Performance:\")\n",
    "print(\"Mean Absolute Error:\", mae_test)\n",
    "print(\"Mean Squared Error:\", mse_test)\n",
    "print(\"R2 Score:\", r2_test)"
   ]
  },
  {
   "cell_type": "code",
   "execution_count": 145,
   "metadata": {},
   "outputs": [
    {
     "data": {
      "text/plain": [
       "{'bootstrap': True,\n",
       " 'ccp_alpha': 0.0,\n",
       " 'criterion': 'squared_error',\n",
       " 'max_depth': None,\n",
       " 'max_features': 1.0,\n",
       " 'max_leaf_nodes': None,\n",
       " 'max_samples': None,\n",
       " 'min_impurity_decrease': 0.0,\n",
       " 'min_samples_leaf': 1,\n",
       " 'min_samples_split': 2,\n",
       " 'min_weight_fraction_leaf': 0.0,\n",
       " 'n_estimators': 100,\n",
       " 'n_jobs': None,\n",
       " 'oob_score': False,\n",
       " 'random_state': 42,\n",
       " 'verbose': 0,\n",
       " 'warm_start': False}"
      ]
     },
     "execution_count": 145,
     "metadata": {},
     "output_type": "execute_result"
    }
   ],
   "source": [
    "rfr.get_params()"
   ]
  },
  {
   "cell_type": "code",
   "execution_count": null,
   "metadata": {},
   "outputs": [],
   "source": []
  }
 ],
 "metadata": {
  "kernelspec": {
   "display_name": "base",
   "language": "python",
   "name": "python3"
  },
  "language_info": {
   "codemirror_mode": {
    "name": "ipython",
    "version": 3
   },
   "file_extension": ".py",
   "mimetype": "text/x-python",
   "name": "python",
   "nbconvert_exporter": "python",
   "pygments_lexer": "ipython3",
   "version": "3.10.9"
  }
 },
 "nbformat": 4,
 "nbformat_minor": 2
}
